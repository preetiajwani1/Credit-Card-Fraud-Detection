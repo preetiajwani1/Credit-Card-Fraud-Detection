{
 "cells": [
  {
   "cell_type": "code",
   "execution_count": null,
   "metadata": {},
   "outputs": [],
   "source": []
  },
  {
   "cell_type": "code",
   "execution_count": 70,
   "metadata": {},
   "outputs": [],
   "source": [
    "import numpy as np\n",
    "import pandas as pd\n",
    "import matplotlib.pyplot as plt\n",
    "import seaborn as sb\n",
    "import scipy as sp\n",
    "from sklearn.model_selection import train_test_split\n",
    "import seaborn as sns\n",
    "from sklearn.manifold import TSNE\n",
    "from sklearn.decomposition import PCA, TruncatedSVD\n",
    "import matplotlib.patches as mpatches\n",
    "import time\n",
    "import tensorflow as tf\n",
    "from sklearn.linear_model import LogisticRegression\n",
    "from sklearn.svm import SVC\n",
    "from sklearn.neighbors import KNeighborsClassifier\n",
    "from sklearn.tree import DecisionTreeClassifier\n",
    "from sklearn.ensemble import RandomForestClassifier\n",
    "import collections\n",
    "from sklearn.model_selection import train_test_split\n",
    "from sklearn.pipeline import make_pipeline\n",
    "from imblearn.pipeline import make_pipeline as imbalanced_make_pipeline\n",
    "from imblearn.over_sampling import SMOTE\n",
    "from imblearn.under_sampling import NearMiss\n",
    "from imblearn.metrics import classification_report_imbalanced\n",
    "from sklearn.metrics import precision_score, recall_score, f1_score, roc_auc_score, accuracy_score, classification_report\n",
    "from collections import Counter\n",
    "from sklearn.model_selection import KFold, StratifiedKFold\n",
    "from sklearn.preprocessing import StandardScaler, RobustScaler\n",
    "import warnings\n",
    "from sklearn.model_selection import train_test_split\n",
    "from sklearn.model_selection import StratifiedShuffleSplit\n",
    "warnings.filterwarnings(\"ignore\")"
   ]
  },
  {
   "cell_type": "code",
   "execution_count": 62,
   "metadata": {},
   "outputs": [
    {
     "data": {
      "text/plain": [
       "(284807, 31)"
      ]
     },
     "execution_count": 62,
     "metadata": {},
     "output_type": "execute_result"
    }
   ],
   "source": [
    "df=pd.read_csv('creditcard.csv')\n",
    "df.shape"
   ]
  },
  {
   "cell_type": "code",
   "execution_count": 63,
   "metadata": {},
   "outputs": [
    {
     "name": "stdout",
     "output_type": "stream",
     "text": [
      "<class 'pandas.core.frame.DataFrame'>\n",
      "RangeIndex: 284807 entries, 0 to 284806\n",
      "Data columns (total 31 columns):\n",
      "Time      284807 non-null float64\n",
      "V1        284807 non-null float64\n",
      "V2        284807 non-null float64\n",
      "V3        284807 non-null float64\n",
      "V4        284807 non-null float64\n",
      "V5        284807 non-null float64\n",
      "V6        284807 non-null float64\n",
      "V7        284807 non-null float64\n",
      "V8        284807 non-null float64\n",
      "V9        284807 non-null float64\n",
      "V10       284807 non-null float64\n",
      "V11       284807 non-null float64\n",
      "V12       284807 non-null float64\n",
      "V13       284807 non-null float64\n",
      "V14       284807 non-null float64\n",
      "V15       284807 non-null float64\n",
      "V16       284807 non-null float64\n",
      "V17       284807 non-null float64\n",
      "V18       284807 non-null float64\n",
      "V19       284807 non-null float64\n",
      "V20       284807 non-null float64\n",
      "V21       284807 non-null float64\n",
      "V22       284807 non-null float64\n",
      "V23       284807 non-null float64\n",
      "V24       284807 non-null float64\n",
      "V25       284807 non-null float64\n",
      "V26       284807 non-null float64\n",
      "V27       284807 non-null float64\n",
      "V28       284807 non-null float64\n",
      "Amount    284807 non-null float64\n",
      "Class     284807 non-null int64\n",
      "dtypes: float64(30), int64(1)\n",
      "memory usage: 67.4 MB\n"
     ]
    },
    {
     "data": {
      "text/html": [
       "<div>\n",
       "<style scoped>\n",
       "    .dataframe tbody tr th:only-of-type {\n",
       "        vertical-align: middle;\n",
       "    }\n",
       "\n",
       "    .dataframe tbody tr th {\n",
       "        vertical-align: top;\n",
       "    }\n",
       "\n",
       "    .dataframe thead th {\n",
       "        text-align: right;\n",
       "    }\n",
       "</style>\n",
       "<table border=\"1\" class=\"dataframe\">\n",
       "  <thead>\n",
       "    <tr style=\"text-align: right;\">\n",
       "      <th></th>\n",
       "      <th>Time</th>\n",
       "      <th>V1</th>\n",
       "      <th>V2</th>\n",
       "      <th>V3</th>\n",
       "      <th>V4</th>\n",
       "      <th>V5</th>\n",
       "      <th>V6</th>\n",
       "      <th>V7</th>\n",
       "      <th>V8</th>\n",
       "      <th>V9</th>\n",
       "      <th>...</th>\n",
       "      <th>V21</th>\n",
       "      <th>V22</th>\n",
       "      <th>V23</th>\n",
       "      <th>V24</th>\n",
       "      <th>V25</th>\n",
       "      <th>V26</th>\n",
       "      <th>V27</th>\n",
       "      <th>V28</th>\n",
       "      <th>Amount</th>\n",
       "      <th>Class</th>\n",
       "    </tr>\n",
       "  </thead>\n",
       "  <tbody>\n",
       "    <tr>\n",
       "      <th>4081</th>\n",
       "      <td>3735.0</td>\n",
       "      <td>1.442735</td>\n",
       "      <td>-0.615451</td>\n",
       "      <td>-0.891079</td>\n",
       "      <td>-1.633736</td>\n",
       "      <td>1.479398</td>\n",
       "      <td>3.267038</td>\n",
       "      <td>-1.198806</td>\n",
       "      <td>0.715915</td>\n",
       "      <td>0.362632</td>\n",
       "      <td>...</td>\n",
       "      <td>-0.291091</td>\n",
       "      <td>-0.886952</td>\n",
       "      <td>0.100126</td>\n",
       "      <td>0.918922</td>\n",
       "      <td>0.364895</td>\n",
       "      <td>-0.506097</td>\n",
       "      <td>-0.015882</td>\n",
       "      <td>0.011710</td>\n",
       "      <td>20.54</td>\n",
       "      <td>0</td>\n",
       "    </tr>\n",
       "    <tr>\n",
       "      <th>64602</th>\n",
       "      <td>51221.0</td>\n",
       "      <td>-0.696562</td>\n",
       "      <td>1.341379</td>\n",
       "      <td>1.485132</td>\n",
       "      <td>1.897358</td>\n",
       "      <td>0.475377</td>\n",
       "      <td>-0.323015</td>\n",
       "      <td>0.800568</td>\n",
       "      <td>0.000569</td>\n",
       "      <td>-0.717263</td>\n",
       "      <td>...</td>\n",
       "      <td>-0.014729</td>\n",
       "      <td>0.085753</td>\n",
       "      <td>-0.152865</td>\n",
       "      <td>0.306942</td>\n",
       "      <td>-0.070995</td>\n",
       "      <td>-0.121399</td>\n",
       "      <td>0.012779</td>\n",
       "      <td>0.156221</td>\n",
       "      <td>7.60</td>\n",
       "      <td>0</td>\n",
       "    </tr>\n",
       "    <tr>\n",
       "      <th>259116</th>\n",
       "      <td>158965.0</td>\n",
       "      <td>2.075510</td>\n",
       "      <td>0.753957</td>\n",
       "      <td>-3.030008</td>\n",
       "      <td>0.789103</td>\n",
       "      <td>1.163779</td>\n",
       "      <td>-1.758843</td>\n",
       "      <td>0.867675</td>\n",
       "      <td>-0.524649</td>\n",
       "      <td>-0.110271</td>\n",
       "      <td>...</td>\n",
       "      <td>-0.031989</td>\n",
       "      <td>0.154722</td>\n",
       "      <td>0.000402</td>\n",
       "      <td>0.936907</td>\n",
       "      <td>0.362391</td>\n",
       "      <td>0.659139</td>\n",
       "      <td>-0.073277</td>\n",
       "      <td>-0.008177</td>\n",
       "      <td>0.76</td>\n",
       "      <td>0</td>\n",
       "    </tr>\n",
       "    <tr>\n",
       "      <th>17482</th>\n",
       "      <td>28758.0</td>\n",
       "      <td>-0.901804</td>\n",
       "      <td>0.182260</td>\n",
       "      <td>1.337870</td>\n",
       "      <td>-0.589233</td>\n",
       "      <td>1.179772</td>\n",
       "      <td>-1.071955</td>\n",
       "      <td>0.871792</td>\n",
       "      <td>-0.170738</td>\n",
       "      <td>-0.626508</td>\n",
       "      <td>...</td>\n",
       "      <td>-0.278413</td>\n",
       "      <td>-1.045063</td>\n",
       "      <td>0.011874</td>\n",
       "      <td>-0.053671</td>\n",
       "      <td>-0.118489</td>\n",
       "      <td>-0.025853</td>\n",
       "      <td>-0.198291</td>\n",
       "      <td>-0.131406</td>\n",
       "      <td>19.90</td>\n",
       "      <td>0</td>\n",
       "    </tr>\n",
       "    <tr>\n",
       "      <th>212755</th>\n",
       "      <td>138983.0</td>\n",
       "      <td>1.998560</td>\n",
       "      <td>-0.081655</td>\n",
       "      <td>-0.706772</td>\n",
       "      <td>0.633569</td>\n",
       "      <td>-0.646562</td>\n",
       "      <td>-1.742649</td>\n",
       "      <td>0.152705</td>\n",
       "      <td>-0.349267</td>\n",
       "      <td>0.594862</td>\n",
       "      <td>...</td>\n",
       "      <td>-0.239182</td>\n",
       "      <td>-0.596794</td>\n",
       "      <td>0.459434</td>\n",
       "      <td>0.910377</td>\n",
       "      <td>-0.443125</td>\n",
       "      <td>0.143115</td>\n",
       "      <td>-0.074542</td>\n",
       "      <td>-0.052480</td>\n",
       "      <td>1.98</td>\n",
       "      <td>0</td>\n",
       "    </tr>\n",
       "  </tbody>\n",
       "</table>\n",
       "<p>5 rows × 31 columns</p>\n",
       "</div>"
      ],
      "text/plain": [
       "            Time        V1        V2        V3        V4        V5        V6  \\\n",
       "4081      3735.0  1.442735 -0.615451 -0.891079 -1.633736  1.479398  3.267038   \n",
       "64602    51221.0 -0.696562  1.341379  1.485132  1.897358  0.475377 -0.323015   \n",
       "259116  158965.0  2.075510  0.753957 -3.030008  0.789103  1.163779 -1.758843   \n",
       "17482    28758.0 -0.901804  0.182260  1.337870 -0.589233  1.179772 -1.071955   \n",
       "212755  138983.0  1.998560 -0.081655 -0.706772  0.633569 -0.646562 -1.742649   \n",
       "\n",
       "              V7        V8        V9  ...       V21       V22       V23  \\\n",
       "4081   -1.198806  0.715915  0.362632  ... -0.291091 -0.886952  0.100126   \n",
       "64602   0.800568  0.000569 -0.717263  ... -0.014729  0.085753 -0.152865   \n",
       "259116  0.867675 -0.524649 -0.110271  ... -0.031989  0.154722  0.000402   \n",
       "17482   0.871792 -0.170738 -0.626508  ... -0.278413 -1.045063  0.011874   \n",
       "212755  0.152705 -0.349267  0.594862  ... -0.239182 -0.596794  0.459434   \n",
       "\n",
       "             V24       V25       V26       V27       V28  Amount  Class  \n",
       "4081    0.918922  0.364895 -0.506097 -0.015882  0.011710   20.54      0  \n",
       "64602   0.306942 -0.070995 -0.121399  0.012779  0.156221    7.60      0  \n",
       "259116  0.936907  0.362391  0.659139 -0.073277 -0.008177    0.76      0  \n",
       "17482  -0.053671 -0.118489 -0.025853 -0.198291 -0.131406   19.90      0  \n",
       "212755  0.910377 -0.443125  0.143115 -0.074542 -0.052480    1.98      0  \n",
       "\n",
       "[5 rows x 31 columns]"
      ]
     },
     "execution_count": 63,
     "metadata": {},
     "output_type": "execute_result"
    }
   ],
   "source": [
    "df.info()\n",
    "df.isnull().any().any() # Returns True is there is any null value in dataset, Here it is False.\n",
    "df.sample(5)"
   ]
  },
  {
   "cell_type": "code",
   "execution_count": 64,
   "metadata": {},
   "outputs": [
    {
     "data": {
      "text/plain": [
       "0    0.998273\n",
       "1    0.001727\n",
       "Name: Class, dtype: float64"
      ]
     },
     "execution_count": 64,
     "metadata": {},
     "output_type": "execute_result"
    }
   ],
   "source": [
    "df.Class.value_counts()\n",
    " #  0    284315\n",
    " # 1       492\n",
    "df.Class.value_counts(normalize=True) #  0    0.998273 - % of real transaction\n",
    "                                      #  1    0.001727 - % of fraud transaction\n",
    "# Number of fraudulent transactions is just 0.001 which makes the data highly unbalanced"
   ]
  },
  {
   "cell_type": "code",
   "execution_count": 69,
   "metadata": {},
   "outputs": [],
   "source": [
    "#Scaling Time and Amounts \n",
    "std_scaler = StandardScaler()\n",
    "rob_scaler = RobustScaler()\n",
    "\n",
    "df['scaled_amount'] = rob_scaler.fit_transform(df['Amount'].values.reshape(-1,1))\n",
    "df['scaled_time'] = rob_scaler.fit_transform(df['Time'].values.reshape(-1,1))\n",
    "\n",
    "df.drop(['Time','Amount'], axis=1, inplace=True)"
   ]
  },
  {
   "cell_type": "code",
   "execution_count": 26,
   "metadata": {},
   "outputs": [],
   "source": [
    "# Data Partition"
   ]
  },
  {
   "cell_type": "code",
   "execution_count": 72,
   "metadata": {},
   "outputs": [
    {
     "name": "stdout",
     "output_type": "stream",
     "text": [
      "Train: [ 30473  30496  31002 ... 284804 284805 284806] Test: [    0     1     2 ... 57017 57018 57019]\n",
      "Train: [     0      1      2 ... 284804 284805 284806] Test: [ 30473  30496  31002 ... 113964 113965 113966]\n",
      "Train: [     0      1      2 ... 284804 284805 284806] Test: [ 81609  82400  83053 ... 170946 170947 170948]\n",
      "Train: [     0      1      2 ... 284804 284805 284806] Test: [150654 150660 150661 ... 227866 227867 227868]\n",
      "Train: [     0      1      2 ... 227866 227867 227868] Test: [212516 212644 213092 ... 284804 284805 284806]\n"
     ]
    }
   ],
   "source": [
    "X = df.drop('Class', axis=1)\n",
    "y = df['Class']\n",
    "\n",
    "sss = StratifiedKFold(n_splits=5, random_state=None, shuffle=False)\n",
    "\n",
    "for train_index, test_index in sss.split(X, y):\n",
    "    print(\"Train:\", train_index, \"Test:\", test_index)\n",
    "    original_Xtrain, original_Xtest = X.iloc[train_index], X.iloc[test_index]\n",
    "    original_ytrain, original_ytest = y.iloc[train_index], y.iloc[test_index]"
   ]
  },
  {
   "cell_type": "code",
   "execution_count": 74,
   "metadata": {},
   "outputs": [
    {
     "name": "stdout",
     "output_type": "stream",
     "text": [
      "----------------------------------------------------------------------------------------------------\n",
      "Label Distributions: \n",
      "\n",
      "[0.99827076 0.00172924]\n",
      "[0.99827952 0.00172048]\n"
     ]
    }
   ],
   "source": [
    "# Turn into an array\n",
    "original_Xtrain = original_Xtrain.values\n",
    "original_Xtest = original_Xtest.values\n",
    "original_ytrain = original_ytrain.values\n",
    "original_ytest = original_ytest.values\n",
    "\n",
    "# See if both the train and test label distribution are similarly distributed\n",
    "train_unique_label, train_counts_label = np.unique(original_ytrain, return_counts=True)\n",
    "test_unique_label, test_counts_label = np.unique(original_ytest, return_counts=True)\n",
    "print('-' * 100)\n",
    "\n",
    "print('Label Distributions: \\n')\n",
    "print(train_counts_label/ len(original_ytrain))\n",
    "print(test_counts_label/ len(original_ytest))"
   ]
  },
  {
   "cell_type": "code",
   "execution_count": 38,
   "metadata": {},
   "outputs": [
    {
     "data": {
      "text/plain": [
       "Text(0.5, 1.0, 'Transaction Times')"
      ]
     },
     "execution_count": 38,
     "metadata": {},
     "output_type": "execute_result"
    },
    {
     "data": {
      "image/png": "[encoded data removed]",
      "text/plain": [
       "<Figure size 960x320 with 1 Axes>"
      ]
     },
     "metadata": {
      "needs_background": "light"
     },
     "output_type": "display_data"
    }
   ],
   "source": [
    "%matplotlib inline\n",
    "#Exploratory Data Analysis\n",
    "\n",
    "#X_train.Time.describe()\n",
    "\n",
    "# Plot transaction time\n",
    "plt.figure(figsize=(12,4), dpi=80)\n",
    "sb.distplot(X_train.Time, bins=48, kde=False)\n",
    "plt.xlim([0,50])\n",
    "plt.xticks(np.arange(0,54,6))\n",
    "plt.xlabel('Time After First Transaction (hr)')\n",
    "plt.ylabel('Count')\n",
    "plt.title('Transaction Times')\n",
    "# the two heaps shows that maximum transactions have happened during the night time.\n"
   ]
  },
  {
   "cell_type": "code",
   "execution_count": 40,
   "metadata": {},
   "outputs": [
    {
     "data": {
      "text/plain": [
       "Text(0.5, 1.0, 'Transaction Amount')"
      ]
     },
     "execution_count": 40,
     "metadata": {},
     "output_type": "execute_result"
    },
    {
     "data": {
      "image/png": "[encoded data removed]",
      "text/plain": [
       "<Figure size 960x320 with 1 Axes>"
      ]
     },
     "metadata": {
      "needs_background": "light"
     },
     "output_type": "display_data"
    }
   ],
   "source": [
    "df.Amount.describe()# right Skewed\n",
    "plt.figure(figsize=(12,4), dpi=80)\n",
    "sb.distplot(df.Amount, bins=300, kde=False)\n",
    "plt.xlabel('Amount')\n",
    "plt.ylabel('Count')\n",
    "plt.title('Transaction Amount')"
   ]
  },
  {
   "cell_type": "code",
   "execution_count": 42,
   "metadata": {},
   "outputs": [
    {
     "data": {
      "text/plain": [
       "0.11535790843348774"
      ]
     },
     "execution_count": 42,
     "metadata": {},
     "output_type": "execute_result"
    },
    {
     "data": {
      "image/png": "[encoded data removed]",
      "text/plain": [
       "<Figure size 960x320 with 1 Axes>"
      ]
     },
     "metadata": {
      "needs_background": "light"
     },
     "output_type": "display_data"
    }
   ],
   "source": [
    "plt.figure(figsize=(12,4), dpi=80)\n",
    "sb.boxplot(x=df.Amount)\n",
    "plt.title('Transaction Amount')\n",
    "\n",
    "df.Amount.skew()"
   ]
  },
  {
   "cell_type": "code",
   "execution_count": null,
   "metadata": {},
   "outputs": [],
   "source": []
  },
  {
   "cell_type": "code",
   "execution_count": null,
   "metadata": {},
   "outputs": [],
   "source": []
  },
  {
   "cell_type": "code",
   "execution_count": 75,
   "metadata": {},
   "outputs": [
    {
     "data": {
      "text/plain": [
       "Text(0.5, 1.0, 'V1-V28 Standar Deviations')"
      ]
     },
     "execution_count": 75,
     "metadata": {},
     "output_type": "execute_result"
    },
    {
     "data": {
      "image/png": "[encoded data removed]",
      "text/plain": [
       "<Figure size 960x320 with 1 Axes>"
      ]
     },
     "metadata": {
      "needs_background": "light"
     },
     "output_type": "display_data"
    }
   ],
   "source": [
    "# plot the standard deviation\n",
    "plt.figure(figsize=(12,4), dpi=80)\n",
    "sb.barplot(x=PCA_vars, y=df[PCA_vars].std(), color='darkblue')\n",
    "plt.xlabel('Column')\n",
    "plt.ylabel('Standard Deviation')\n",
    "plt.title('V1-V28 Standar Deviations')\n",
    "#All the PC's has roughly unit variance and it starts from ~0.3 till 1.9\n"
   ]
  },
  {
   "cell_type": "code",
   "execution_count": 47,
   "metadata": {},
   "outputs": [
    {
     "data": {
      "text/plain": [
       "Text(0.5, 1.0, 'V1-V28 Skewness')"
      ]
     },
     "execution_count": 47,
     "metadata": {},
     "output_type": "execute_result"
    },
    {
     "data": {
      "image/png": "[encoded data removed]",
      "text/plain": [
       "<Figure size 960x320 with 1 Axes>"
      ]
     },
     "metadata": {
      "needs_background": "light"
     },
     "output_type": "display_data"
    }
   ],
   "source": [
    "# plot the skewness\n",
    "\n",
    "plt.figure(figsize=(12,4), dpi=80)\n",
    "sb.barplot(x=PCA_vars, y=df[PCA_vars].skew(), color='darkblue')\n",
    "plt.xlabel('Column')\n",
    "plt.ylabel('Skewness')\n",
    "plt.title('V1-V28 Skewness')\n",
    "# few PC's are skewed, so lets plot the histogram for those skewed PC's\n"
   ]
  },
  {
   "cell_type": "code",
   "execution_count": 48,
   "metadata": {},
   "outputs": [
    {
     "data": {
      "text/plain": [
       "Text(0.5, 1.0, 'V8')"
      ]
     },
     "execution_count": 48,
     "metadata": {},
     "output_type": "execute_result"
    },
    {
     "data": {
      "image/png": "[encoded data removed]",
      "text/plain": [
       "<Figure size 960x320 with 1 Axes>"
      ]
     },
     "metadata": {
      "needs_background": "light"
     },
     "output_type": "display_data"
    }
   ],
   "source": [
    "plt.figure(figsize=(12,4), dpi=80)\n",
    "sb.distplot(df['V8'], bins=300, kde=False)\n",
    "plt.ylabel('Count')\n",
    "plt.title('V8')\n",
    "# Histogram is not showing any Outlier so plot the scatter plot"
   ]
  },
  {
   "cell_type": "code",
   "execution_count": 49,
   "metadata": {},
   "outputs": [
    {
     "data": {
      "text/plain": [
       "Text(0.5, 1.0, 'V8')"
      ]
     },
     "execution_count": 49,
     "metadata": {},
     "output_type": "execute_result"
    },
    {
     "data": {
      "image/png": "[encoded data removed]",
      "text/plain": [
       "<Figure size 960x320 with 1 Axes>"
      ]
     },
     "metadata": {
      "needs_background": "light"
     },
     "output_type": "display_data"
    }
   ],
   "source": [
    "plt.figure(figsize=(12,4), dpi=80)\n",
    "sb.boxplot(df['V8'])\n",
    "plt.title('V8')\n",
    "#There are large number of outliers, which indicates high kurtosis in V8 and i think i should plot the kutosis of each PC's\n",
    "# lets take the log scale on Kurtosis\n"
   ]
  },
  {
   "cell_type": "code",
   "execution_count": 50,
   "metadata": {},
   "outputs": [
    {
     "data": {
      "text/plain": [
       "Text(0.5, 1.0, 'V1-V28 Kurtoses')"
      ]
     },
     "execution_count": 50,
     "metadata": {},
     "output_type": "execute_result"
    },
    {
     "data": {
      "image/png": "[encoded data removed]",
      "text/plain": [
       "<Figure size 960x320 with 1 Axes>"
      ]
     },
     "metadata": {
      "needs_background": "light"
     },
     "output_type": "display_data"
    }
   ],
   "source": [
    "plt.figure(figsize=(12,4), dpi=80)\n",
    "plt.yscale('log')\n",
    "sb.barplot(x=PCA_vars, y=df[PCA_vars].kurtosis(), color='darkblue')\n",
    "plt.xlabel('Column')\n",
    "plt.ylabel('Kurtosis')\n",
    "plt.title('V1-V28 Kurtoses')"
   ]
  },
  {
   "cell_type": "code",
   "execution_count": 51,
   "metadata": {},
   "outputs": [
    {
     "data": {
      "text/plain": [
       "Text(0.5, 1.0, 'V1-V28 Medians')"
      ]
     },
     "execution_count": 51,
     "metadata": {},
     "output_type": "execute_result"
    },
    {
     "data": {
      "image/png": "[encoded data removed]",
      "text/plain": [
       "<Figure size 960x320 with 1 Axes>"
      ]
     },
     "metadata": {
      "needs_background": "light"
     },
     "output_type": "display_data"
    }
   ],
   "source": [
    "# As many of the PCA variables are heavy-tailed, so let's plot the median\n",
    "\n",
    "plt.figure(figsize=(12,4), dpi=80)\n",
    "sb.barplot(x=PCA_vars, y=df[PCA_vars].median(), color='darkblue')\n",
    "plt.xlabel('Column')\n",
    "plt.ylabel('Median')\n",
    "plt.title('V1-V28 Medians')\n",
    "# median also looks zero\n"
   ]
  },
  {
   "cell_type": "code",
   "execution_count": 52,
   "metadata": {},
   "outputs": [
    {
     "data": {
      "text/plain": [
       "Text(0.5, 1.0, 'V1-V28 IQR')"
      ]
     },
     "execution_count": 52,
     "metadata": {},
     "output_type": "execute_result"
    },
    {
     "data": {
      "image/png": "[encoded data removed]",
      "text/plain": [
       "<Figure size 960x320 with 1 Axes>"
      ]
     },
     "metadata": {
      "needs_background": "light"
     },
     "output_type": "display_data"
    }
   ],
   "source": [
    "# Plot IQR\n",
    "\n",
    "plt.figure(figsize=(12,4), dpi=80)\n",
    "sb.barplot(x=PCA_vars, y=df[PCA_vars].quantile(0.75) - df[PCA_vars].quantile(0.25), color='darkblue')\n",
    "plt.xlabel('Column')\n",
    "plt.ylabel('IQR')\n",
    "plt.title('V1-V28 IQR')\n"
   ]
  },
  {
   "cell_type": "code",
   "execution_count": 76,
   "metadata": {},
   "outputs": [
    {
     "data": {
      "text/html": [
       "<div>\n",
       "<style scoped>\n",
       "    .dataframe tbody tr th:only-of-type {\n",
       "        vertical-align: middle;\n",
       "    }\n",
       "\n",
       "    .dataframe tbody tr th {\n",
       "        vertical-align: top;\n",
       "    }\n",
       "\n",
       "    .dataframe thead th {\n",
       "        text-align: right;\n",
       "    }\n",
       "</style>\n",
       "<table border=\"1\" class=\"dataframe\">\n",
       "  <thead>\n",
       "    <tr style=\"text-align: right;\">\n",
       "      <th></th>\n",
       "      <th>V1</th>\n",
       "      <th>V2</th>\n",
       "      <th>V3</th>\n",
       "      <th>V4</th>\n",
       "      <th>V5</th>\n",
       "      <th>V6</th>\n",
       "      <th>V7</th>\n",
       "      <th>V8</th>\n",
       "      <th>V9</th>\n",
       "      <th>V10</th>\n",
       "      <th>...</th>\n",
       "      <th>V22</th>\n",
       "      <th>V23</th>\n",
       "      <th>V24</th>\n",
       "      <th>V25</th>\n",
       "      <th>V26</th>\n",
       "      <th>V27</th>\n",
       "      <th>V28</th>\n",
       "      <th>Class</th>\n",
       "      <th>scaled_amount</th>\n",
       "      <th>scaled_time</th>\n",
       "    </tr>\n",
       "  </thead>\n",
       "  <tbody>\n",
       "    <tr>\n",
       "      <th>223197</th>\n",
       "      <td>-0.919911</td>\n",
       "      <td>1.521083</td>\n",
       "      <td>-0.774145</td>\n",
       "      <td>-0.449930</td>\n",
       "      <td>0.815685</td>\n",
       "      <td>-0.780079</td>\n",
       "      <td>0.755754</td>\n",
       "      <td>0.235872</td>\n",
       "      <td>-0.038001</td>\n",
       "      <td>-1.205981</td>\n",
       "      <td>...</td>\n",
       "      <td>0.371808</td>\n",
       "      <td>-0.367725</td>\n",
       "      <td>-0.687640</td>\n",
       "      <td>0.016328</td>\n",
       "      <td>0.624137</td>\n",
       "      <td>0.397003</td>\n",
       "      <td>0.220389</td>\n",
       "      <td>0</td>\n",
       "      <td>-0.028086</td>\n",
       "      <td>0.688342</td>\n",
       "    </tr>\n",
       "    <tr>\n",
       "      <th>150666</th>\n",
       "      <td>-10.850282</td>\n",
       "      <td>6.727466</td>\n",
       "      <td>-16.760583</td>\n",
       "      <td>8.425832</td>\n",
       "      <td>-10.252697</td>\n",
       "      <td>-4.192171</td>\n",
       "      <td>-14.077086</td>\n",
       "      <td>7.168288</td>\n",
       "      <td>-3.683242</td>\n",
       "      <td>-15.239962</td>\n",
       "      <td>...</td>\n",
       "      <td>0.135535</td>\n",
       "      <td>-1.023967</td>\n",
       "      <td>0.406265</td>\n",
       "      <td>0.106593</td>\n",
       "      <td>-0.026232</td>\n",
       "      <td>-1.464630</td>\n",
       "      <td>-0.411682</td>\n",
       "      <td>1</td>\n",
       "      <td>0.782505</td>\n",
       "      <td>0.107708</td>\n",
       "    </tr>\n",
       "    <tr>\n",
       "      <th>111385</th>\n",
       "      <td>-0.086831</td>\n",
       "      <td>1.572640</td>\n",
       "      <td>0.725673</td>\n",
       "      <td>2.805809</td>\n",
       "      <td>0.087597</td>\n",
       "      <td>-0.040972</td>\n",
       "      <td>0.191390</td>\n",
       "      <td>0.323440</td>\n",
       "      <td>-1.571965</td>\n",
       "      <td>0.634263</td>\n",
       "      <td>...</td>\n",
       "      <td>0.409000</td>\n",
       "      <td>0.140439</td>\n",
       "      <td>-0.099976</td>\n",
       "      <td>-1.266702</td>\n",
       "      <td>-0.031910</td>\n",
       "      <td>0.161140</td>\n",
       "      <td>0.197008</td>\n",
       "      <td>0</td>\n",
       "      <td>-0.307273</td>\n",
       "      <td>-0.146630</td>\n",
       "    </tr>\n",
       "    <tr>\n",
       "      <th>281674</th>\n",
       "      <td>1.991976</td>\n",
       "      <td>0.158476</td>\n",
       "      <td>-2.583441</td>\n",
       "      <td>0.408670</td>\n",
       "      <td>1.151147</td>\n",
       "      <td>-0.096695</td>\n",
       "      <td>0.223050</td>\n",
       "      <td>-0.068384</td>\n",
       "      <td>0.577829</td>\n",
       "      <td>-0.888722</td>\n",
       "      <td>...</td>\n",
       "      <td>-0.295135</td>\n",
       "      <td>-0.072173</td>\n",
       "      <td>-0.450261</td>\n",
       "      <td>0.313267</td>\n",
       "      <td>-0.289617</td>\n",
       "      <td>0.002988</td>\n",
       "      <td>-0.015309</td>\n",
       "      <td>1</td>\n",
       "      <td>0.286872</td>\n",
       "      <td>1.006309</td>\n",
       "    </tr>\n",
       "    <tr>\n",
       "      <th>189587</th>\n",
       "      <td>0.909124</td>\n",
       "      <td>1.337658</td>\n",
       "      <td>-4.484728</td>\n",
       "      <td>3.245358</td>\n",
       "      <td>-0.417809</td>\n",
       "      <td>-0.762119</td>\n",
       "      <td>-2.506349</td>\n",
       "      <td>0.694164</td>\n",
       "      <td>-0.467556</td>\n",
       "      <td>-4.565260</td>\n",
       "      <td>...</td>\n",
       "      <td>0.594078</td>\n",
       "      <td>-0.252120</td>\n",
       "      <td>0.325439</td>\n",
       "      <td>0.562766</td>\n",
       "      <td>-0.256278</td>\n",
       "      <td>0.652674</td>\n",
       "      <td>0.319879</td>\n",
       "      <td>1</td>\n",
       "      <td>0.641375</td>\n",
       "      <td>0.514327</td>\n",
       "    </tr>\n",
       "  </tbody>\n",
       "</table>\n",
       "<p>5 rows × 31 columns</p>\n",
       "</div>"
      ],
      "text/plain": [
       "               V1        V2         V3        V4         V5        V6  \\\n",
       "223197  -0.919911  1.521083  -0.774145 -0.449930   0.815685 -0.780079   \n",
       "150666 -10.850282  6.727466 -16.760583  8.425832 -10.252697 -4.192171   \n",
       "111385  -0.086831  1.572640   0.725673  2.805809   0.087597 -0.040972   \n",
       "281674   1.991976  0.158476  -2.583441  0.408670   1.151147 -0.096695   \n",
       "189587   0.909124  1.337658  -4.484728  3.245358  -0.417809 -0.762119   \n",
       "\n",
       "               V7        V8        V9        V10  ...       V22       V23  \\\n",
       "223197   0.755754  0.235872 -0.038001  -1.205981  ...  0.371808 -0.367725   \n",
       "150666 -14.077086  7.168288 -3.683242 -15.239962  ...  0.135535 -1.023967   \n",
       "111385   0.191390  0.323440 -1.571965   0.634263  ...  0.409000  0.140439   \n",
       "281674   0.223050 -0.068384  0.577829  -0.888722  ... -0.295135 -0.072173   \n",
       "189587  -2.506349  0.694164 -0.467556  -4.565260  ...  0.594078 -0.252120   \n",
       "\n",
       "             V24       V25       V26       V27       V28  Class  \\\n",
       "223197 -0.687640  0.016328  0.624137  0.397003  0.220389      0   \n",
       "150666  0.406265  0.106593 -0.026232 -1.464630 -0.411682      1   \n",
       "111385 -0.099976 -1.266702 -0.031910  0.161140  0.197008      0   \n",
       "281674 -0.450261  0.313267 -0.289617  0.002988 -0.015309      1   \n",
       "189587  0.325439  0.562766 -0.256278  0.652674  0.319879      1   \n",
       "\n",
       "        scaled_amount  scaled_time  \n",
       "223197      -0.028086     0.688342  \n",
       "150666       0.782505     0.107708  \n",
       "111385      -0.307273    -0.146630  \n",
       "281674       0.286872     1.006309  \n",
       "189587       0.641375     0.514327  \n",
       "\n",
       "[5 rows x 31 columns]"
      ]
     },
     "execution_count": 76,
     "metadata": {},
     "output_type": "execute_result"
    }
   ],
   "source": [
    "#Random Undersampling\n",
    "df = df.sample(frac=1)\n",
    "\n",
    "# amount of fraud classes 492 rows.\n",
    "fraud_df = df.loc[df['Class'] == 1]\n",
    "non_fraud_df = df.loc[df['Class'] == 0][:492]\n",
    "\n",
    "normal_distributed_df = pd.concat([fraud_df, non_fraud_df])\n",
    "\n",
    "# Shuffle dataframe rows\n",
    "new_df = normal_distributed_df.sample(frac=1, random_state=42)\n",
    "\n",
    "new_df.head()"
   ]
  },
  {
   "cell_type": "code",
   "execution_count": 78,
   "metadata": {},
   "outputs": [
    {
     "name": "stdout",
     "output_type": "stream",
     "text": [
      "Distribution of the Classes in the subsample dataset\n",
      "1    0.5\n",
      "0    0.5\n",
      "Name: Class, dtype: float64\n"
     ]
    }
   ],
   "source": [
    "print('Distribution of the Classes in the subsample dataset')\n",
    "print(new_df['Class'].value_counts()/len(new_df))\n"
   ]
  },
  {
   "cell_type": "code",
   "execution_count": 81,
   "metadata": {},
   "outputs": [],
   "source": [
    "X = new_df.drop('Class', axis=1)\n",
    "y = new_df['Class']"
   ]
  },
  {
   "cell_type": "code",
   "execution_count": 82,
   "metadata": {},
   "outputs": [],
   "source": [
    "X_train, X_test, y_train, y_test = train_test_split(X, y, test_size=0.2, random_state=42)"
   ]
  },
  {
   "cell_type": "code",
   "execution_count": 83,
   "metadata": {},
   "outputs": [],
   "source": [
    "X_train = X_train.values\n",
    "X_test = X_test.values\n",
    "y_train = y_train.values\n",
    "y_test = y_test.values"
   ]
  },
  {
   "cell_type": "code",
   "execution_count": 146,
   "metadata": {},
   "outputs": [],
   "source": [
    "classifiers = {\n",
    "    \"LogisiticRegression\": LogisticRegression(),\n",
    "    \"DecisionTreeClassifier\": DecisionTreeClassifier(),\n",
    "    \"RandomForestClassifier\": RandomForestClassifier(),\n",
    "}"
   ]
  },
  {
   "cell_type": "code",
   "execution_count": 88,
   "metadata": {},
   "outputs": [
    {
     "name": "stdout",
     "output_type": "stream",
     "text": [
      "Classifiers:  LogisticRegression Has a training score of 94.0 % accuracy score\n",
      "Classifiers:  DecisionTreeClassifier Has a training score of 91.0 % accuracy score\n",
      "Classifiers:  RandomForestClassifier Has a training score of 94.0 % accuracy score\n"
     ]
    }
   ],
   "source": [
    "from sklearn.model_selection import cross_val_score\n",
    "\n",
    "\n",
    "for key, classifier in classifiers.items():\n",
    "    classifier.fit(X_train, y_train)\n",
    "    training_score = cross_val_score(classifier, X_train, y_train, cv=5)\n",
    "    print(\"Classifiers: \", classifier.__class__.__name__, \"Has a training score of\", round(training_score.mean(), 2) * 100, \"% accuracy score\")"
   ]
  },
  {
   "cell_type": "code",
   "execution_count": 127,
   "metadata": {},
   "outputs": [],
   "source": [
    "# Use GridSearchCV to find the best parameters.\n",
    "from sklearn.model_selection import GridSearchCV\n",
    "\n",
    "\n",
    "# Logistic Regression \n",
    "log_reg_params = {\"penalty\": ['l1', 'l2', 'elasticnet'], 'C': [0.001, 0.01, 0.1, 1, 10, 100, 1000]}\n",
    "grid_log_reg = GridSearchCV(LogisticRegression(), log_reg_params)\n",
    "grid_log_reg.fit(X_train, y_train)\n",
    "# We automatically get the logistic regression with the best parameters.\n",
    "log_reg = grid_log_reg.best_estimator_\n"
   ]
  },
  {
   "cell_type": "code",
   "execution_count": 140,
   "metadata": {},
   "outputs": [
    {
     "data": {
      "text/plain": [
       "array([1, 1, 0, 1, 1, 1, 1, 0, 1, 1, 1, 1, 1, 0, 0, 0, 1, 0, 1, 0, 0, 1,\n",
       "       0, 0, 1, 0, 0, 0, 0, 0, 0, 0, 0, 1, 1, 1, 0, 1, 1, 1, 0, 1, 1, 1,\n",
       "       0, 0, 0, 0, 0, 1, 1, 1, 1, 0, 1, 0, 1, 0, 1, 0, 1, 1, 0, 0, 1, 0,\n",
       "       0, 1, 1, 1, 1, 0, 0, 1, 0, 0, 1, 1, 0, 1, 1, 1, 0, 0, 0, 1, 0, 1,\n",
       "       0, 1, 0, 1, 1, 0, 1, 1, 1, 0, 1, 1, 0, 1, 0, 1, 0, 1, 1, 1, 0, 1,\n",
       "       1, 0, 0, 0, 1, 1, 1, 0, 0, 0, 1, 1, 1, 0, 0, 0, 1, 1, 0, 0, 0, 0,\n",
       "       0, 1, 1, 0, 0, 1, 0, 0, 0, 0, 0, 1, 0, 1, 0, 1, 1, 0, 1, 1, 1, 0,\n",
       "       1, 1, 0, 0, 1, 1, 1, 1, 0, 1, 0, 0, 1, 0, 1, 1, 0, 0, 0, 0, 1, 1,\n",
       "       0, 0, 1, 0, 0, 0, 1, 1, 0, 0, 1, 1, 1, 0, 0, 0, 0, 1, 0, 0, 1],\n",
       "      dtype=int64)"
      ]
     },
     "execution_count": 140,
     "metadata": {},
     "output_type": "execute_result"
    }
   ],
   "source": [
    "grid_log_reg.predict(X_test)"
   ]
  },
  {
   "cell_type": "code",
   "execution_count": 91,
   "metadata": {},
   "outputs": [],
   "source": [
    "# DecisionTree Classifier\n",
    "tree_params = {\"criterion\": [\"gini\", \"entropy\"], \"max_depth\": list(range(2,4,1)), \n",
    "              \"min_samples_leaf\": list(range(5,7,1))}\n",
    "grid_tree = GridSearchCV(DecisionTreeClassifier(), tree_params)\n",
    "grid_tree.fit(X_train, y_train)\n",
    "\n",
    "# tree best estimator\n",
    "tree_clf = grid_tree.best_estimator_"
   ]
  },
  {
   "cell_type": "code",
   "execution_count": 100,
   "metadata": {},
   "outputs": [
    {
     "data": {
      "text/plain": [
       "DecisionTreeClassifier(ccp_alpha=0.0, class_weight=None, criterion='gini',\n",
       "                       max_depth=3, max_features=None, max_leaf_nodes=None,\n",
       "                       min_impurity_decrease=0.0, min_impurity_split=None,\n",
       "                       min_samples_leaf=5, min_samples_split=2,\n",
       "                       min_weight_fraction_leaf=0.0, presort='deprecated',\n",
       "                       random_state=None, splitter='best')"
      ]
     },
     "execution_count": 100,
     "metadata": {},
     "output_type": "execute_result"
    }
   ],
   "source": [
    "tree_clf"
   ]
  },
  {
   "cell_type": "code",
   "execution_count": 136,
   "metadata": {},
   "outputs": [],
   "source": [
    "# RandomForest Classifier\n",
    "# Create the parameter grid based on the results of random search \n",
    "random_param = {\n",
    "    'bootstrap': [True, False],\n",
    "    'max_depth': [2, 5, 1],\n",
    "    'max_features': ['auto', 'sqrt'],\n",
    "    'min_samples_leaf': [7, 5, 1],\n",
    "    'min_samples_split': [8, 5, 12]\n",
    "}# Create a based model\n",
    "grid_random = GridSearchCV(RandomForestClassifier(), random_param)\n",
    "grid_random.fit(X_train, y_train)\n",
    "random_clf = grid_random.best_estimator_"
   ]
  },
  {
   "cell_type": "code",
   "execution_count": 137,
   "metadata": {},
   "outputs": [
    {
     "data": {
      "text/plain": [
       "RandomForestClassifier(bootstrap=False, ccp_alpha=0.0, class_weight=None,\n",
       "                       criterion='gini', max_depth=5, max_features='sqrt',\n",
       "                       max_leaf_nodes=None, max_samples=None,\n",
       "                       min_impurity_decrease=0.0, min_impurity_split=None,\n",
       "                       min_samples_leaf=1, min_samples_split=5,\n",
       "                       min_weight_fraction_leaf=0.0, n_estimators=100,\n",
       "                       n_jobs=None, oob_score=False, random_state=None,\n",
       "                       verbose=0, warm_start=False)"
      ]
     },
     "execution_count": 137,
     "metadata": {},
     "output_type": "execute_result"
    }
   ],
   "source": [
    "random_clf"
   ]
  },
  {
   "cell_type": "code",
   "execution_count": 128,
   "metadata": {},
   "outputs": [
    {
     "name": "stdout",
     "output_type": "stream",
     "text": [
      "Logistic Regression Cross Validation Score:  94.79%\n"
     ]
    }
   ],
   "source": [
    "# Overfitting Case\n",
    "\n",
    "log_reg_score = cross_val_score(log_reg, X_train, y_train, cv=5)\n",
    "print('Logistic Regression Cross Validation Score: ', round(log_reg_score.mean() * 100, 2).astype(str) + '%')"
   ]
  },
  {
   "cell_type": "code",
   "execution_count": 93,
   "metadata": {},
   "outputs": [
    {
     "name": "stdout",
     "output_type": "stream",
     "text": [
      "DecisionTree Classifier Cross Validation Score 91.99%\n"
     ]
    }
   ],
   "source": [
    "tree_score = cross_val_score(tree_clf, X_train, y_train, cv=5)\n",
    "print('DecisionTree Classifier Cross Validation Score', round(tree_score.mean() * 100, 2).astype(str) + '%')"
   ]
  },
  {
   "cell_type": "code",
   "execution_count": 138,
   "metadata": {},
   "outputs": [
    {
     "name": "stdout",
     "output_type": "stream",
     "text": [
      "RandomScore Classifier Cross Validation Score 94.53%\n"
     ]
    }
   ],
   "source": [
    "random_score = cross_val_score(random_clf, X_train, y_train, cv=5)\n",
    "print('RandomScore Classifier Cross Validation Score', round(random_score.mean() * 100, 2).astype(str) + '%')"
   ]
  },
  {
   "cell_type": "code",
   "execution_count": null,
   "metadata": {},
   "outputs": [],
   "source": [
    "\n"
   ]
  },
  {
   "cell_type": "code",
   "execution_count": null,
   "metadata": {},
   "outputs": [],
   "source": []
  }
 ],
 "metadata": {
  "kernelspec": {
   "display_name": "Python 3",
   "language": "python",
   "name": "python3"
  },
  "language_info": {
   "codemirror_mode": {
    "name": "ipython",
    "version": 3
   },
   "file_extension": ".py",
   "mimetype": "text/x-python",
   "name": "python",
   "nbconvert_exporter": "python",
   "pygments_lexer": "ipython3",
   "version": "3.7.1"
  }
 },
 "nbformat": 4,
 "nbformat_minor": 2
}
